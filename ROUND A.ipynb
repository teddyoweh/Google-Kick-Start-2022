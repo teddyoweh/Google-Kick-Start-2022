{
 "cells": [
  {
   "cell_type": "code",
   "execution_count": null,
   "metadata": {},
   "outputs": [],
   "source": [
    "\"\"\"\n",
    "Round Name: A\n",
    "Section:  Interesting Integers\n",
    "Section URL: https://codingcompetitions.withgoogle.com/kickstart/round/00000000008cb33e/00000000009e73ea\n",
    "\"\"\"\n",
    "def interestingInt(val1, val2):\n",
    "  def productsa(nums):\n",
    "    ans = 1\n",
    "    for i in nums:\n",
    "      ans*=i\n",
    "    return int(ans)\n",
    "  def isInteresting(num):\n",
    "    suma = int(sum(num))\n",
    "    pro = int(productsa(num))\n",
    "    if pro % suma == 0:\n",
    "     \n",
    "      return True\n",
    "    else: return False \n",
    "  ll=[]\n",
    "  for i in range(int(val1) ,int(val2)):\n",
    "    \n",
    "    \n",
    "    bx = [int(k) for k in str(i)]\n",
    "    #print(bx)\n",
    "    if isInteresting(bx):\n",
    "      ll.append(bx)\n",
    "  if len(ll) > 0:fin = len(ll)+1 \n",
    "  else:fin =  len(ll) \n",
    "  return fin\n",
    "\n",
    "for i in range(int(input())):\n",
    "    val1,val2 = input().split(' ')\n",
    "    print('Case #{0}: {1}'.format(i+1,interestingInt(val1,val2)))"
   ]
  }
 ],
 "metadata": {
  "language_info": {
   "name": "python"
  },
  "orig_nbformat": 4
 },
 "nbformat": 4,
 "nbformat_minor": 2
}
